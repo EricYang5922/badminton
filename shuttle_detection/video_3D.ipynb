{
 "cells": [
  {
   "cell_type": "code",
   "execution_count": null,
   "metadata": {
    "collapsed": true
   },
   "outputs": [],
   "source": [
    "import matplotlib.pyplot as plt\n",
    "import torch\n",
    "from models import FAN\n",
    "from data.dataset import shuttle\n",
    "from torch.utils.data import DataLoader\n",
    "from torch import nn\n",
    "from tqdm import tqdm\n",
    "from skimage import measure\n",
    "from utils import get_args, translate, visualize, heatmap, inference_video\n",
    "import numpy as np \n",
    "import cv2\n",
    "import os\n",
    "from collections import OrderedDict"
   ]
  },
  {
   "cell_type": "code",
   "execution_count": null,
   "metadata": {
    "collapsed": true
   },
   "outputs": [],
   "source": [
    "\n",
    "mode = 'tracking'\n",
    "preload = './result/track_epoch_35.pkl'\n",
    "\n",
    "device = torch.device(\"cuda\")\n",
    "net = FAN(mode = mode)\n",
    "state_dict = torch.load(preload)\n",
    "new_state_dict = OrderedDict()\n",
    "for k, v in state_dict.items():\n",
    "    if len(k) > 7 and k[:7] == 'module.':\n",
    "        namekey = k[7:] # remove `module.`\n",
    "    else:\n",
    "        namekey = k\n",
    "    new_state_dict[namekey] = v\n",
    "net.load_state_dict(new_state_dict)\n",
    "\n",
    "net = nn.DataParallel(net, device_ids=[0])\n",
    "net = net.to(device)\n"
   ]
  },
  {
   "cell_type": "code",
   "execution_count": null,
   "metadata": {
    "scrolled": true
   },
   "outputs": [],
   "source": [
    "\n",
    "#video_data0 = inference_video.video('/media/wkom/移动硬盘/ax700/0306/cut/front/6.mp4', start_frame = 31874, max_frame = 3e3, enhancement = 1.6)\n",
    "#video_data1 = inference_video.video('/media/wkom/移动硬盘/ax700/0306/cut/side/6.mp4', start_frame = 31874, max_frame = 1e9, enhancement = 1.2) \n",
    "\n",
    "video_data0 = inference_video.video('/media/wkom/移动硬盘/ax700/0306/cut/front/6.mp4', start_frame = 0, max_frame = 1e9, enhancement = 1.6)\n",
    "video_data1 = inference_video.video('/media/wkom/移动硬盘/ax700/0306/cut/side/6.mp4', start_frame = 0, max_frame = 1e9, enhancement = 1.2) \n",
    "\n",
    "mat0 = np.load('/media/wkom/移动硬盘/ax700/0306/cut/front/6.npy')\n",
    "mat1 = np.load('/media/wkom/移动硬盘/ax700/0306/cut/side/6.npy')\n",
    "\n",
    "#video_3D(video_datas, mats, neighbors, net, device, save_paths)\n",
    "\n",
    "coordinary_list = inference_video.video_3D((video_data0, video_data1), (mat0, mat1), 5, net, device, './3D_result')\n"
   ]
  },
  {
   "cell_type": "code",
   "execution_count": null,
   "metadata": {
    "collapsed": true
   },
   "outputs": [],
   "source": []
  },
  {
   "cell_type": "code",
   "execution_count": null,
   "metadata": {
    "collapsed": true
   },
   "outputs": [],
   "source": []
  }
 ],
 "metadata": {
  "kernelspec": {
   "display_name": "Python 3",
   "language": "python",
   "name": "python3"
  },
  "language_info": {
   "codemirror_mode": {
    "name": "ipython",
    "version": 3
   },
   "file_extension": ".py",
   "mimetype": "text/x-python",
   "name": "python",
   "nbconvert_exporter": "python",
   "pygments_lexer": "ipython3",
   "version": "3.6.8"
  }
 },
 "nbformat": 4,
 "nbformat_minor": 2
}
